{
 "cells": [
  {
   "attachments": {},
   "cell_type": "markdown",
   "metadata": {},
   "source": [
    "# Lab | Inferential statistics - ANOVA\n",
    "\n",
    "Note: The following lab is divided in 2 sections which represent activities 3 and 4.\n",
    "\n",
    "1. Part 1\n",
    "In this activity, we will look at another example. Your task is to understand the problem and write down all the steps to set up ANOVA. After the next lesson, we will ask you to solve this problem using Python. Here are the steps that you would need to work on: - Null hypothesis - Alternate hypothesis - Level of significance - Test statistic - P-value - F table\n",
    "\n",
    "    Context\n",
    "    Suppose you are working as an analyst in a microprocessor chip manufacturing plant. You have been given the task of analyzing a plasma etching process with respect to changing Power (in Watts) of the plasma beam. Data was collected and provided to you to conduct statistical analysis and check if changing the power of the plasma beam has any effect on the etching rate by the machine. You will conduct ANOVA and check if there is any difference in the mean etching rate for different levels of power. You can find the data anova_lab_data.xlsx file in the files_for_lab folder\n",
    "\n",
    "* State the null hypothesis\n",
    "* State the alternate hypothesis\n",
    "* What is the significance level\n",
    "* What are the degrees of freedom of model, error terms, and total DoF\n",
    "* Data was collected randomly and provided to you in the table as shown: link to the image - Data\n",
    "\n",
    "2. Part 2\n",
    "* In this section, use Python to conduct ANOVA.\n",
    "* What conclusions can you draw from the experiment and why?"
   ]
  },
  {
   "cell_type": "code",
   "execution_count": 2,
   "metadata": {},
   "outputs": [],
   "source": [
    "import pandas as pd\n",
    "import scipy.stats as stats"
   ]
  },
  {
   "cell_type": "code",
   "execution_count": 3,
   "metadata": {},
   "outputs": [],
   "source": [
    "df = pd.read_excel(r\"C:\\Users\\ssai\\OneDrive\\Data_26-07\\labs\\lab-inferential-statistics-anova\\files_for_lab/anova_lab_data.xlsx\")"
   ]
  },
  {
   "cell_type": "code",
   "execution_count": null,
   "metadata": {},
   "outputs": [],
   "source": [
    "df"
   ]
  },
  {
   "attachments": {},
   "cell_type": "markdown",
   "metadata": {},
   "source": [
    "1. Part 1"
   ]
  },
  {
   "attachments": {},
   "cell_type": "markdown",
   "metadata": {},
   "source": [
    "* State the null hypothesis - H0: Changing power has no effect on etching rate \n",
    "* State the alternate hypothesis - HA : Changing power has effect on the etching rate\n",
    "* What is the significance level - SLevel: 0.05\n",
    "* What are the degrees of freedom of model, error terms, and total DoF - degress of freedom: (2,12)\n",
    "    #### Critical values of F for the 0.05 significance level (2,12): 2.8"
   ]
  },
  {
   "attachments": {},
   "cell_type": "markdown",
   "metadata": {},
   "source": [
    "2. Part 2 \n",
    "* In this section, use Python to conduct ANOVA.\n",
    "* What conclusions can you draw from the experiment and why?"
   ]
  },
  {
   "cell_type": "code",
   "execution_count": 9,
   "metadata": {},
   "outputs": [],
   "source": [
    "power160 = df[df[\"Power \"] == \"160 W\"]\n",
    "power180 = df[df[\"Power \"] == \"180 W\"]\n",
    "power200 = df[df[\"Power \"] == \"200 W\"]"
   ]
  },
  {
   "cell_type": "code",
   "execution_count": 10,
   "metadata": {},
   "outputs": [],
   "source": [
    "def homocedasticity(group1, group2, group3, significance):\n",
    "    test_stats_var, p_value_var = stats.levene(group1, group2, group3)\n",
    "    print(\"pvalue: \", p_value_var)\n",
    "    if p_value_var < significance:\n",
    "        print(\"Variance not the same\")\n",
    "    else:\n",
    "        print(\"no evidence to reject: Variance same\")"
   ]
  },
  {
   "cell_type": "code",
   "execution_count": 16,
   "metadata": {},
   "outputs": [
    {
     "name": "stdout",
     "output_type": "stream",
     "text": [
      "pvalue:  0.36273618170443384\n",
      "no evidence to reject: Variance same\n"
     ]
    }
   ],
   "source": [
    "homocedasticity(power160['Etching Rate'],power180['Etching Rate'],power200['Etching Rate'], 0.05)"
   ]
  },
  {
   "cell_type": "code",
   "execution_count": 17,
   "metadata": {},
   "outputs": [
    {
     "name": "stdout",
     "output_type": "stream",
     "text": [
      "pvalue 0.1016449544953947\n",
      "no evidence to reject\n"
     ]
    }
   ],
   "source": [
    "test, pvalue = stats.ttest_ind(power160['Etching Rate'], power180['Etching Rate'])\n",
    "print(\"pvalue\", pvalue)\n",
    "if pvalue < 0.05:\n",
    "    print(\"reject null hypothesis\")\n",
    "else:\n",
    "    print(\"no evidence to reject\")"
   ]
  },
  {
   "cell_type": "code",
   "execution_count": 18,
   "metadata": {},
   "outputs": [
    {
     "name": "stdout",
     "output_type": "stream",
     "text": [
      "pvalue 6.237977344615716e-05\n",
      "reject null hypothesis\n"
     ]
    }
   ],
   "source": [
    "test, pvalue = stats.ttest_ind(power160['Etching Rate'], power200['Etching Rate'])\n",
    "print(\"pvalue\", pvalue)\n",
    "if pvalue < 0.05:\n",
    "    print(\"reject null hypothesis\")\n",
    "else:\n",
    "    print(\"no evidence to reject\")"
   ]
  },
  {
   "cell_type": "code",
   "execution_count": 19,
   "metadata": {},
   "outputs": [
    {
     "name": "stdout",
     "output_type": "stream",
     "text": [
      "pvalue 0.00039267964760490845\n",
      "reject null hypothesis\n"
     ]
    }
   ],
   "source": [
    "test, pvalue = stats.ttest_ind(power180['Etching Rate'], power200['Etching Rate'])\n",
    "print(\"pvalue\", pvalue)\n",
    "if pvalue < 0.05:\n",
    "    print(\"reject null hypothesis\")\n",
    "else:\n",
    "    print(\"no evidence to reject\")"
   ]
  },
  {
   "cell_type": "markdown",
   "metadata": {},
   "source": [
    "### P-values are below 0.05 for the 200 Watt option, therefore we reject the null hypothesis.\n",
    "### We conclude that changing the power of the plasma beam has an effect on the etching rate by the machine."
   ]
  }
 ],
 "metadata": {
  "kernelspec": {
   "display_name": "Python 3",
   "language": "python",
   "name": "python3"
  },
  "language_info": {
   "codemirror_mode": {
    "name": "ipython",
    "version": 3
   },
   "file_extension": ".py",
   "mimetype": "text/x-python",
   "name": "python",
   "nbconvert_exporter": "python",
   "pygments_lexer": "ipython3",
   "version": "3.9.12"
  },
  "orig_nbformat": 4,
  "vscode": {
   "interpreter": {
    "hash": "ad2bdc8ecc057115af97d19610ffacc2b4e99fae6737bb82f5d7fb13d2f2c186"
   }
  }
 },
 "nbformat": 4,
 "nbformat_minor": 2
}
